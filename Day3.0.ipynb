{
 "cells": [
  {
   "cell_type": "code",
   "execution_count": 17,
   "id": "a01d994e-0f08-4116-bea6-a93335d86cb0",
   "metadata": {},
   "outputs": [],
   "source": [
    "def display(debug = True) :\n",
    "    'display function declared'\n",
    "    if debug :\n",
    "        print('debug mode activated')\n",
    "    print('function - done')\n",
    "    "
   ]
  },
  {
   "cell_type": "code",
   "execution_count": 2,
   "id": "299ff362-740a-42a7-8a1b-8c60f9b9ea90",
   "metadata": {},
   "outputs": [
    {
     "name": "stdout",
     "output_type": "stream",
     "text": [
      "function - done\n"
     ]
    }
   ],
   "source": [
    "display(False)"
   ]
  },
  {
   "cell_type": "code",
   "execution_count": 3,
   "id": "0e869831-34a8-4e38-963b-2ea7a5b67aca",
   "metadata": {},
   "outputs": [
    {
     "name": "stdout",
     "output_type": "stream",
     "text": [
      "debug mode activated\n",
      "function - done\n"
     ]
    }
   ],
   "source": [
    "display(True)"
   ]
  },
  {
   "cell_type": "code",
   "execution_count": 4,
   "id": "459b3528-846e-4211-8e03-172894dd9794",
   "metadata": {},
   "outputs": [
    {
     "name": "stdout",
     "output_type": "stream",
     "text": [
      "debug mode activated\n",
      "function - done\n"
     ]
    }
   ],
   "source": [
    "display()"
   ]
  },
  {
   "cell_type": "code",
   "execution_count": 5,
   "id": "8cf81c91-68eb-4803-a7d3-6e02ee4fe2d3",
   "metadata": {},
   "outputs": [],
   "source": [
    "def display1(prompt, retries=4, complaint= \"you have to choose yes or no\"):\n",
    "    print(prompt)\n",
    "    print(retries)\n",
    "    print(complaint)\n",
    "    \n",
    "    "
   ]
  },
  {
   "cell_type": "code",
   "execution_count": 7,
   "id": "5e9dad76-04ac-4f93-8dba-80fb9834b12f",
   "metadata": {},
   "outputs": [
    {
     "name": "stdout",
     "output_type": "stream",
     "text": [
      "Enter your name\n",
      "4\n",
      "you have to choose yes or no\n"
     ]
    }
   ],
   "source": [
    "display1(\"Enter your name\")\n"
   ]
  },
  {
   "cell_type": "code",
   "execution_count": 8,
   "id": "35cb6775-674a-4fd1-a64a-fe0c115ee1c6",
   "metadata": {},
   "outputs": [
    {
     "name": "stdout",
     "output_type": "stream",
     "text": [
      "Enter\n",
      "3\n",
      "you have to choose yes or no\n"
     ]
    }
   ],
   "source": [
    "display1(\"Enter\", 3)"
   ]
  },
  {
   "cell_type": "code",
   "execution_count": 9,
   "id": "6f7c7fdf-8cd7-4ef1-9d37-70fa69ddf05c",
   "metadata": {},
   "outputs": [
    {
     "name": "stdout",
     "output_type": "stream",
     "text": [
      "Enter\n",
      "3\n",
      "Complaint1\n"
     ]
    }
   ],
   "source": [
    "display1(\"Enter\", 3, \"Complaint1\")"
   ]
  },
  {
   "cell_type": "code",
   "execution_count": 11,
   "id": "23897cfe-6425-4edd-8915-0dea543c75b7",
   "metadata": {},
   "outputs": [],
   "source": [
    "def display3(name, age) :\n",
    "    print(\"Name :\", name, \"Age :\", age)"
   ]
  },
  {
   "cell_type": "code",
   "execution_count": 12,
   "id": "ab037a19-5d54-4bd9-8b41-1a76803c24ce",
   "metadata": {},
   "outputs": [
    {
     "name": "stdout",
     "output_type": "stream",
     "text": [
      "Name : ram Age : 32\n"
     ]
    }
   ],
   "source": [
    "display3(\"ram\", 32)"
   ]
  },
  {
   "cell_type": "code",
   "execution_count": 14,
   "id": "5dd9d8f9-0413-4164-8bc4-87bf20e396c4",
   "metadata": {},
   "outputs": [
    {
     "name": "stdout",
     "output_type": "stream",
     "text": [
      "Name : 32 Age : ram\n"
     ]
    }
   ],
   "source": [
    "display3(32, \"ram\")"
   ]
  },
  {
   "cell_type": "code",
   "execution_count": 15,
   "id": "f205db71-37ae-4b00-b7fd-88453f3fccb8",
   "metadata": {},
   "outputs": [
    {
     "name": "stdout",
     "output_type": "stream",
     "text": [
      "Name : ram Age : 32\n"
     ]
    }
   ],
   "source": [
    "display3(age = 32, name = \"ram\")"
   ]
  },
  {
   "cell_type": "code",
   "execution_count": 18,
   "id": "0453ab92-209f-47d4-9f5a-a8fef155157e",
   "metadata": {},
   "outputs": [],
   "source": [
    "class Contact :\n",
    "    all_contacts = []\n",
    "    \n",
    "    def __init__(self, name, email) :\n",
    "        self.name = name\n",
    "        self.email = email\n",
    "        Contact.all_contacts.append(self)\n",
    "        \n",
    "        "
   ]
  },
  {
   "cell_type": "code",
   "execution_count": 29,
   "id": "f30efa29-0116-4c48-8810-26045879368a",
   "metadata": {},
   "outputs": [],
   "source": [
    "class Employee :\n",
    "    'Employee documentation'\n",
    "    empCount = 0\n",
    "    \n",
    "    def __init__(self, name, salary) :\n",
    "        self.name = name\n",
    "        self.salary = salary\n",
    "        Employee.empCount += 1\n",
    "        \n",
    "    def displayCount(self) :\n",
    "        print(\"Total Employees : %d\" % Employee.empCount)\n",
    "        \n",
    "    def displayEmployee(self) :\n",
    "        print(\"Name : \", self.name, \"salary : \", self.salary)"
   ]
  },
  {
   "cell_type": "code",
   "execution_count": 30,
   "id": "844e7dd1-9287-4319-85d1-938f423b7826",
   "metadata": {},
   "outputs": [
    {
     "name": "stdout",
     "output_type": "stream",
     "text": [
      "Name :  zara salary :  10000\n",
      "Name :  tom salary :  12000\n",
      "2\n"
     ]
    }
   ],
   "source": [
    "emp1 = Employee(\"zara\", 10000)\n",
    "\n",
    "emp2 = Employee(\"tom\" , 12000)\n",
    "\n",
    "emp1.displayEmployee()\n",
    "\n",
    "emp2.displayEmployee()\n",
    "\n",
    "print(Employee.empCount)"
   ]
  },
  {
   "cell_type": "code",
   "execution_count": 31,
   "id": "1e4e9d64-2581-41a0-a50e-c625b9cdecf0",
   "metadata": {},
   "outputs": [
    {
     "name": "stdout",
     "output_type": "stream",
     "text": [
      "Name :  John salary :  10000\n"
     ]
    }
   ],
   "source": [
    "emp1.age = 40\n",
    "emp1.name = \"John\"\n",
    "\n",
    "emp1.displayEmployee()"
   ]
  },
  {
   "cell_type": "code",
   "execution_count": 32,
   "id": "4a5e4bb6-9990-4103-bf94-fa46ff21362c",
   "metadata": {},
   "outputs": [],
   "source": [
    "del emp1.salary\n"
   ]
  },
  {
   "cell_type": "code",
   "execution_count": 33,
   "id": "b80e69ca-0067-4f9e-83f1-cb9cf0f62c80",
   "metadata": {},
   "outputs": [
    {
     "ename": "AttributeError",
     "evalue": "'Employee' object has no attribute 'salary'",
     "output_type": "error",
     "traceback": [
      "\u001b[1;31m---------------------------------------------------------------------------\u001b[0m",
      "\u001b[1;31mAttributeError\u001b[0m                            Traceback (most recent call last)",
      "Input \u001b[1;32mIn [33]\u001b[0m, in \u001b[0;36m<cell line: 1>\u001b[1;34m()\u001b[0m\n\u001b[1;32m----> 1\u001b[0m \u001b[43memp1\u001b[49m\u001b[38;5;241;43m.\u001b[39;49m\u001b[43mdisplayEmployee\u001b[49m\u001b[43m(\u001b[49m\u001b[43m)\u001b[49m\n",
      "Input \u001b[1;32mIn [29]\u001b[0m, in \u001b[0;36mEmployee.displayEmployee\u001b[1;34m(self)\u001b[0m\n\u001b[0;32m     13\u001b[0m \u001b[38;5;28;01mdef\u001b[39;00m \u001b[38;5;21mdisplayEmployee\u001b[39m(\u001b[38;5;28mself\u001b[39m) :\n\u001b[1;32m---> 14\u001b[0m     \u001b[38;5;28mprint\u001b[39m(\u001b[38;5;124m\"\u001b[39m\u001b[38;5;124mName : \u001b[39m\u001b[38;5;124m\"\u001b[39m, \u001b[38;5;28mself\u001b[39m\u001b[38;5;241m.\u001b[39mname, \u001b[38;5;124m\"\u001b[39m\u001b[38;5;124msalary : \u001b[39m\u001b[38;5;124m\"\u001b[39m, \u001b[38;5;28;43mself\u001b[39;49m\u001b[38;5;241;43m.\u001b[39;49m\u001b[43msalary\u001b[49m)\n",
      "\u001b[1;31mAttributeError\u001b[0m: 'Employee' object has no attribute 'salary'"
     ]
    }
   ],
   "source": [
    "emp1.displayEmployee()"
   ]
  },
  {
   "cell_type": "code",
   "execution_count": 34,
   "id": "afd3ee9e-11ad-4a57-86fc-c34e48785d56",
   "metadata": {},
   "outputs": [
    {
     "name": "stdout",
     "output_type": "stream",
     "text": [
      "False\n",
      "12000\n"
     ]
    }
   ],
   "source": [
    "print(hasattr(emp1, \"salary\"))\n",
    "setattr(emp1, \"salary\", 12000)\n",
    "print(getattr(emp1, \"salary\"))"
   ]
  },
  {
   "cell_type": "code",
   "execution_count": 35,
   "id": "ca94d986-c125-4b71-8e21-f9c856498926",
   "metadata": {},
   "outputs": [],
   "source": [
    "delattr(emp1, 'salary')"
   ]
  },
  {
   "cell_type": "code",
   "execution_count": 36,
   "id": "ac3d935e-dd81-4c45-880e-0d184524f18c",
   "metadata": {},
   "outputs": [
    {
     "name": "stdout",
     "output_type": "stream",
     "text": [
      "Employee documentation\n"
     ]
    }
   ],
   "source": [
    "print(Employee.__doc__)"
   ]
  },
  {
   "cell_type": "code",
   "execution_count": 37,
   "id": "6b0bd0ae-33c7-48bd-9261-5b0c6d0dc9a1",
   "metadata": {},
   "outputs": [
    {
     "name": "stdout",
     "output_type": "stream",
     "text": [
      "Employee\n"
     ]
    }
   ],
   "source": [
    "print(Employee.__name__)"
   ]
  },
  {
   "cell_type": "code",
   "execution_count": 38,
   "id": "3e88e773-a307-42da-861e-2c5cfc2266c0",
   "metadata": {},
   "outputs": [
    {
     "name": "stdout",
     "output_type": "stream",
     "text": [
      "__main__\n"
     ]
    }
   ],
   "source": [
    "print(Employee.__module__)"
   ]
  },
  {
   "cell_type": "code",
   "execution_count": 39,
   "id": "dfda255a-fc7f-4e14-875c-50b421e50338",
   "metadata": {},
   "outputs": [
    {
     "name": "stdout",
     "output_type": "stream",
     "text": [
      "(<class 'object'>,)\n"
     ]
    }
   ],
   "source": [
    "print(Employee.__bases__)"
   ]
  },
  {
   "cell_type": "code",
   "execution_count": 40,
   "id": "b9012fbd-aa4c-4fab-813e-9fd516cbb416",
   "metadata": {},
   "outputs": [
    {
     "name": "stdout",
     "output_type": "stream",
     "text": [
      "{'__module__': '__main__', '__doc__': 'Employee documentation', 'empCount': 2, '__init__': <function Employee.__init__ at 0x000001BD223374C0>, 'displayCount': <function Employee.displayCount at 0x000001BD22337820>, 'displayEmployee': <function Employee.displayEmployee at 0x000001BD22337670>, '__dict__': <attribute '__dict__' of 'Employee' objects>, '__weakref__': <attribute '__weakref__' of 'Employee' objects>}\n"
     ]
    }
   ],
   "source": [
    "print(Employee.__dict__)"
   ]
  },
  {
   "cell_type": "code",
   "execution_count": 41,
   "id": "520471a1-a8f4-4abb-8b83-7f557d21ab6b",
   "metadata": {},
   "outputs": [],
   "source": [
    "class Rectangle :\n",
    "    def __init__(self) :\n",
    "        self.width = 0\n",
    "        self.height = 0\n",
    "        \n",
    "    def setSize(self, size) :\n",
    "        self.width, self.height = size\n",
    "        \n",
    "    def getSize(self) :\n",
    "        return self.width, self.height\n",
    "    "
   ]
  },
  {
   "cell_type": "code",
   "execution_count": 42,
   "id": "c1113ef3-6339-49bc-8bac-1eb6b154f6a7",
   "metadata": {},
   "outputs": [
    {
     "name": "stdout",
     "output_type": "stream",
     "text": [
      "(30, 40)\n"
     ]
    }
   ],
   "source": [
    "r = Rectangle()\n",
    "\n",
    "r.width = 30\n",
    "r.height = 40\n",
    "\n",
    "print(r.getSize())"
   ]
  },
  {
   "cell_type": "code",
   "execution_count": 44,
   "id": "7f799bb6-537d-4764-8c04-ff6d93a3d6d1",
   "metadata": {},
   "outputs": [
    {
     "name": "stdout",
     "output_type": "stream",
     "text": [
      "(100, 200)\n",
      "<__main__.Rectangle object at 0x000001BD207BBF10>\n"
     ]
    }
   ],
   "source": [
    "r.setSize((100, 200))\n",
    "\n",
    "print(r.getSize())\n",
    "\n",
    "print(r)"
   ]
  },
  {
   "cell_type": "code",
   "execution_count": 49,
   "id": "1cf8ebcb-5275-41eb-8fd3-72e5a7d66eab",
   "metadata": {},
   "outputs": [],
   "source": [
    "class Vector :\n",
    "    def __init__(self, a, b) :\n",
    "        self.a = a \n",
    "        self.b = b\n",
    "        \n",
    "    def __str__(self) :\n",
    "        return \"vector data %d - %d\" % (self.a,self.b)\n",
    "    \n",
    "    def __add__(self, other) :\n",
    "        return Vector(self.a + other.a, self.b + other.b)\n",
    "    "
   ]
  },
  {
   "cell_type": "code",
   "execution_count": 50,
   "id": "e44fbe52-2b67-4325-931f-7ea8511dd4e7",
   "metadata": {},
   "outputs": [],
   "source": [
    "v1 = Vector(100, 200)\n",
    "v2 = Vector(300,400)\n",
    "    "
   ]
  },
  {
   "cell_type": "code",
   "execution_count": 51,
   "id": "f6cb9f1e-0292-4418-9eb5-820c1cf4524d",
   "metadata": {},
   "outputs": [
    {
     "name": "stdout",
     "output_type": "stream",
     "text": [
      "vector data 100 - 200\n"
     ]
    }
   ],
   "source": [
    "print(v1)"
   ]
  },
  {
   "cell_type": "code",
   "execution_count": 52,
   "id": "68ac9b4f-0b7c-4a03-9d0e-5b9b628f0826",
   "metadata": {},
   "outputs": [
    {
     "name": "stdout",
     "output_type": "stream",
     "text": [
      "vector data 400 - 600\n"
     ]
    }
   ],
   "source": [
    "print(v1 + v2)"
   ]
  },
  {
   "cell_type": "code",
   "execution_count": 56,
   "id": "454f62cd-f56f-4436-972c-5acbbc60690f",
   "metadata": {},
   "outputs": [],
   "source": [
    "class Counter :\n",
    "    __secretCounter = 0 \n",
    "    \n",
    "    def performCount(self) :\n",
    "        self.__secretCounter += 1\n",
    "        print(self.__secretCounter)\n",
    "        \n",
    "    \n"
   ]
  },
  {
   "cell_type": "code",
   "execution_count": 58,
   "id": "9c42792e-721c-4bea-b3af-c9279ee768bf",
   "metadata": {},
   "outputs": [
    {
     "name": "stdout",
     "output_type": "stream",
     "text": [
      "1\n",
      "2\n",
      "3\n"
     ]
    }
   ],
   "source": [
    "c = Counter()\n",
    "\n",
    "c.performCount()\n",
    "c.performCount()\n",
    "c.performCount()\n"
   ]
  },
  {
   "cell_type": "code",
   "execution_count": 59,
   "id": "f676fc2e-748c-41ae-838b-9217bd06dd0e",
   "metadata": {},
   "outputs": [
    {
     "ename": "AttributeError",
     "evalue": "type object 'Counter' has no attribute '__secretCounter'",
     "output_type": "error",
     "traceback": [
      "\u001b[1;31m---------------------------------------------------------------------------\u001b[0m",
      "\u001b[1;31mAttributeError\u001b[0m                            Traceback (most recent call last)",
      "Input \u001b[1;32mIn [59]\u001b[0m, in \u001b[0;36m<cell line: 1>\u001b[1;34m()\u001b[0m\n\u001b[1;32m----> 1\u001b[0m \u001b[38;5;28mprint\u001b[39m(\u001b[43mCounter\u001b[49m\u001b[38;5;241;43m.\u001b[39;49m\u001b[43m__secretCounter\u001b[49m)\n",
      "\u001b[1;31mAttributeError\u001b[0m: type object 'Counter' has no attribute '__secretCounter'"
     ]
    }
   ],
   "source": [
    "print(Counter.__secretCounter)"
   ]
  },
  {
   "cell_type": "code",
   "execution_count": 64,
   "id": "194990df-50e5-4dd2-853e-5b01d15879a2",
   "metadata": {},
   "outputs": [],
   "source": [
    "class SuperClass :\n",
    "    def __init__(self, x) :\n",
    "        print(\"Super x : \", x)\n",
    "    \n",
    "    def display(self) :\n",
    "        print(\"display from parent class\")\n",
    "        \n",
    "class SubClass(SuperClass) :\n",
    "    def __init__(self, x, y) :\n",
    "        SuperClass.__init__(self, x)\n",
    "        self.y = y\n",
    "        print(\"Y = \", y)"
   ]
  },
  {
   "cell_type": "code",
   "execution_count": 65,
   "id": "cba02a5b-527e-432b-bcaa-af1b123c7173",
   "metadata": {},
   "outputs": [
    {
     "name": "stdout",
     "output_type": "stream",
     "text": [
      "Super x :  10\n",
      "Y =  40\n",
      "display from parent class\n"
     ]
    }
   ],
   "source": [
    "s = SubClass(10, 40)\n",
    "s.display()"
   ]
  },
  {
   "cell_type": "code",
   "execution_count": 66,
   "id": "55df3b7e-54b9-4f27-a7bd-abad0b7b1449",
   "metadata": {},
   "outputs": [],
   "source": [
    "class Contact :\n",
    "    all_contacts = []\n",
    "    \n",
    "    def __init__(self, name, email) :\n",
    "        self.name = name\n",
    "        self.email = email\n",
    "        Contact.all_contacts.append(self)\n",
    "        \n",
    "        \n",
    "class AddressHolder :\n",
    "    def __init__(self, street, city, state, code) :\n",
    "        self.street = street\n",
    "        self.city = city\n",
    "        self.state = state\n",
    "        self.code = code\n",
    "        \n",
    "    \n",
    "class Friend(Contact, AddressHolder) :\n",
    "    def __init__(self, name, email, phone, street, city, state, code) :\n",
    "        Contact.__init__(name, email)\n",
    "        AddressHolder.__init__(street, city, state, code)\n",
    "        self.phone = phone\n",
    "        \n",
    "        "
   ]
  },
  {
   "cell_type": "code",
   "execution_count": 67,
   "id": "ca561643-ae0b-4b0b-8a43-9b5bbb0b58c2",
   "metadata": {},
   "outputs": [
    {
     "name": "stdout",
     "output_type": "stream",
     "text": [
      "A new MyClass has been born!\n",
      "\n",
      "I'm Jack\n",
      "Right now I feel happy \n",
      "\n",
      "This is a public method.\n",
      "This is a private method.\n"
     ]
    },
    {
     "ename": "PrivateExc",
     "evalue": "('name', <__main__.Test2 object at 0x000001BD21A8CAC0>)",
     "output_type": "error",
     "traceback": [
      "\u001b[1;31m---------------------------------------------------------------------------\u001b[0m",
      "\u001b[1;31mPrivateExc\u001b[0m                                Traceback (most recent call last)",
      "Input \u001b[1;32mIn [67]\u001b[0m, in \u001b[0;36m<cell line: 80>\u001b[1;34m()\u001b[0m\n\u001b[0;32m     77\u001b[0m y \u001b[38;5;241m=\u001b[39m Test2(  )\n\u001b[0;32m     79\u001b[0m x\u001b[38;5;241m.\u001b[39mname \u001b[38;5;241m=\u001b[39m \u001b[38;5;124m'\u001b[39m\u001b[38;5;124mBob\u001b[39m\u001b[38;5;124m'\u001b[39m\n\u001b[1;32m---> 80\u001b[0m y\u001b[38;5;241m.\u001b[39mname \u001b[38;5;241m=\u001b[39m \u001b[38;5;124m'\u001b[39m\u001b[38;5;124mSue\u001b[39m\u001b[38;5;124m'\u001b[39m   \u001b[38;5;66;03m# <== fails\u001b[39;00m\n\u001b[0;32m     82\u001b[0m y\u001b[38;5;241m.\u001b[39mage  \u001b[38;5;241m=\u001b[39m \u001b[38;5;241m30\u001b[39m\n\u001b[0;32m     83\u001b[0m x\u001b[38;5;241m.\u001b[39mage  \u001b[38;5;241m=\u001b[39m \u001b[38;5;241m40\u001b[39m\n",
      "Input \u001b[1;32mIn [67]\u001b[0m, in \u001b[0;36mPrivacy.__setattr__\u001b[1;34m(self, attrname, value)\u001b[0m\n\u001b[0;32m     62\u001b[0m \u001b[38;5;28;01mdef\u001b[39;00m \u001b[38;5;21m__setattr__\u001b[39m(\u001b[38;5;28mself\u001b[39m, attrname, value):      \n\u001b[0;32m     63\u001b[0m     \u001b[38;5;28;01mif\u001b[39;00m attrname \u001b[38;5;129;01min\u001b[39;00m \u001b[38;5;28mself\u001b[39m\u001b[38;5;241m.\u001b[39mprivates:\n\u001b[1;32m---> 64\u001b[0m         \u001b[38;5;28;01mraise\u001b[39;00m PrivateExc(attrname, \u001b[38;5;28mself\u001b[39m)\n\u001b[0;32m     65\u001b[0m     \u001b[38;5;28;01melse\u001b[39;00m:\n\u001b[0;32m     66\u001b[0m         \u001b[38;5;28mself\u001b[39m\u001b[38;5;241m.\u001b[39m\u001b[38;5;18m__dict__\u001b[39m[attrname] \u001b[38;5;241m=\u001b[39m value\n",
      "\u001b[1;31mPrivateExc\u001b[0m: ('name', <__main__.Test2 object at 0x000001BD21A8CAC0>)"
     ]
    }
   ],
   "source": [
    "'''\n",
    "Created on Mar 22, 2023\n",
    "\n",
    "@author: BVR\n",
    "\n",
    "PUBLIC AND PRIVATE VARIABLES EXAMPLES\n",
    "\n",
    "'''\n",
    "\n",
    "\n",
    "class PrivateClass:\n",
    "   def __init__( self ):\n",
    "      self.publicData = \"public\"      # public data member\n",
    "      self.__privateData = \"private\"  # private data member\n",
    "\n",
    "\n",
    "\n",
    "\n",
    "class MyClass(object):\n",
    "    def __init__(self, name, mood):\n",
    "        print(\"A new MyClass has been born!\")\n",
    "        self.name = name            # public attribute\n",
    "        self.__mood = mood          # private attribute\n",
    "\n",
    "    def talk(self):\n",
    "        print(\"\\nI'm\", self.name)\n",
    "        print(\"Right now I feel\", self.__mood, \"\\n\")\n",
    "\n",
    "    def __private_method(self):\n",
    "        print(\"This is a private method.\")\n",
    "\n",
    "    def public_method(self):\n",
    "        print(\"This is a public method.\")\n",
    "        self.__private_method()\n",
    "\n",
    "crit = MyClass(name = \"Jack\", mood = \"happy\")\n",
    "crit.talk()\n",
    "crit.public_method()\n",
    "\n",
    "\n",
    "\n",
    "\n",
    "class VirtualAttributes:\n",
    "      __vdict = None\n",
    "      __vdict_name = list(locals().keys())[0]\n",
    "\n",
    "      def __init__(self):\n",
    "          self.__dict__[self.__vdict_name] = {}\n",
    "\n",
    "      def __getattr__(self, name):\n",
    "          return self.__vdict[name]\n",
    "\n",
    "      def __setattr__(self, name, value):\n",
    "          self.__vdict[name] = value\n",
    "          \n",
    "          \n",
    "          \n",
    "          \n",
    "class PrivateExc(Exception): pass                 \n",
    "\n",
    "class Privacy:\n",
    "    def __setattr__(self, attrname, value):      \n",
    "        if attrname in self.privates:\n",
    "            raise PrivateExc(attrname, self)\n",
    "        else:\n",
    "            self.__dict__[attrname] = value      \n",
    "\n",
    "class Test1(Privacy):\n",
    "    privates = ['age']\n",
    "\n",
    "class Test2(Privacy):\n",
    "    privates = ['name', 'pay']\n",
    "    def __init__(self):\n",
    "        self.__dict__['name'] = 'Tom'\n",
    "\n",
    "x = Test1(  )\n",
    "y = Test2(  )\n",
    "\n",
    "x.name = 'Bob'\n",
    "y.name = 'Sue'   # <== fails\n",
    "\n",
    "y.age  = 30\n",
    "x.age  = 40      # <== fails\n",
    "\n",
    "\n",
    "\n"
   ]
  },
  {
   "cell_type": "code",
   "execution_count": 70,
   "id": "ea3e2cbb-9e81-4d3e-9a11-7cc3ae0b2568",
   "metadata": {},
   "outputs": [
    {
     "name": "stdout",
     "output_type": "stream",
     "text": [
      "This is a static method\n"
     ]
    },
    {
     "ename": "TypeError",
     "evalue": "method2() takes 0 positional arguments but 1 was given",
     "output_type": "error",
     "traceback": [
      "\u001b[1;31m---------------------------------------------------------------------------\u001b[0m",
      "\u001b[1;31mTypeError\u001b[0m                                 Traceback (most recent call last)",
      "Input \u001b[1;32mIn [70]\u001b[0m, in \u001b[0;36m<cell line: 12>\u001b[1;34m()\u001b[0m\n\u001b[0;32m      8\u001b[0m         \u001b[38;5;28mprint\u001b[39m(\u001b[38;5;124m\"\u001b[39m\u001b[38;5;124mclass method \u001b[39m\u001b[38;5;124m\"\u001b[39m)\n\u001b[0;32m     11\u001b[0m MyClass\u001b[38;5;241m.\u001b[39mmethod1()\n\u001b[1;32m---> 12\u001b[0m \u001b[43mMyClass\u001b[49m\u001b[38;5;241;43m.\u001b[39;49m\u001b[43mmethod2\u001b[49m\u001b[43m(\u001b[49m\u001b[43m)\u001b[49m\n",
      "\u001b[1;31mTypeError\u001b[0m: method2() takes 0 positional arguments but 1 was given"
     ]
    }
   ],
   "source": [
    "class MyClass :\n",
    "    @staticmethod\n",
    "    def method1() :\n",
    "        print(\"This is a static method\")\n",
    "        \n",
    "    @classmethod\n",
    "    def method2() :\n",
    "        print(\"class method \")\n",
    "        \n",
    "\n",
    "MyClass.method1()\n",
    "MyClass.method2()\n",
    "        "
   ]
  },
  {
   "cell_type": "code",
   "execution_count": null,
   "id": "48323ea4-397d-4b15-8cc5-a3934e36d328",
   "metadata": {},
   "outputs": [],
   "source": []
  }
 ],
 "metadata": {
  "kernelspec": {
   "display_name": "Python 3 (ipykernel)",
   "language": "python",
   "name": "python3"
  },
  "language_info": {
   "codemirror_mode": {
    "name": "ipython",
    "version": 3
   },
   "file_extension": ".py",
   "mimetype": "text/x-python",
   "name": "python",
   "nbconvert_exporter": "python",
   "pygments_lexer": "ipython3",
   "version": "3.9.12"
  }
 },
 "nbformat": 4,
 "nbformat_minor": 5
}

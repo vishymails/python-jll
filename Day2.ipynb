{
 "cells": [
  {
   "cell_type": "code",
   "execution_count": 1,
   "id": "54be18bc-e8e3-4ca8-b7fd-52be547e92cd",
   "metadata": {},
   "outputs": [
    {
     "name": "stdout",
     "output_type": "stream",
     "text": [
      "(1, 2, 3)\n"
     ]
    }
   ],
   "source": [
    "x = 1, 2, 3\n",
    "\n",
    "print(x)"
   ]
  },
  {
   "cell_type": "code",
   "execution_count": 2,
   "id": "0e01d9e0-09e1-42a9-baa9-82137d568f00",
   "metadata": {},
   "outputs": [
    {
     "name": "stdout",
     "output_type": "stream",
     "text": [
      "(1, 2, 3)\n"
     ]
    }
   ],
   "source": [
    "x = (1, 2, 3)\n",
    "print(x)"
   ]
  },
  {
   "cell_type": "code",
   "execution_count": 3,
   "id": "0b70da05-ddee-4332-87e2-07392c684732",
   "metadata": {},
   "outputs": [
    {
     "name": "stdout",
     "output_type": "stream",
     "text": [
      "()\n"
     ]
    }
   ],
   "source": [
    "x = ()\n",
    "print(x)"
   ]
  },
  {
   "cell_type": "code",
   "execution_count": 4,
   "id": "d20f540a-d5d5-4a30-b25a-40417f8cb9e7",
   "metadata": {},
   "outputs": [
    {
     "name": "stdout",
     "output_type": "stream",
     "text": [
      "42\n"
     ]
    }
   ],
   "source": [
    "x = 42\n",
    "print(x)"
   ]
  },
  {
   "cell_type": "code",
   "execution_count": 5,
   "id": "356892fa-f666-4b1b-814c-7c6bbe196131",
   "metadata": {},
   "outputs": [
    {
     "name": "stdout",
     "output_type": "stream",
     "text": [
      "(42,)\n"
     ]
    }
   ],
   "source": [
    "x = 42,\n",
    "print(x)"
   ]
  },
  {
   "cell_type": "code",
   "execution_count": 7,
   "id": "1051f173-3e57-4bd3-96e4-7e80cbdd3dc7",
   "metadata": {},
   "outputs": [
    {
     "name": "stdout",
     "output_type": "stream",
     "text": [
      "['abc']\n",
      "<class 'list'>\n"
     ]
    }
   ],
   "source": [
    "print(['abc'])\n",
    "print(type(['abc']))"
   ]
  },
  {
   "cell_type": "code",
   "execution_count": 9,
   "id": "90959a56-85c5-436b-a024-cc0caf9be2c1",
   "metadata": {},
   "outputs": [
    {
     "name": "stdout",
     "output_type": "stream",
     "text": [
      "abc\n",
      "<class 'str'>\n"
     ]
    }
   ],
   "source": [
    "print(('abc'))\n",
    "print(type(('abc')))"
   ]
  },
  {
   "cell_type": "code",
   "execution_count": 10,
   "id": "305bd7e0-aa18-4284-b539-e5908b6e284b",
   "metadata": {},
   "outputs": [
    {
     "name": "stdout",
     "output_type": "stream",
     "text": [
      "('abc',)\n",
      "<class 'tuple'>\n"
     ]
    }
   ],
   "source": [
    "print(('abc',))\n",
    "print(type(('abc',)))"
   ]
  },
  {
   "cell_type": "code",
   "execution_count": 11,
   "id": "52e02cf2-5cee-4286-9d36-5e2b33d0123e",
   "metadata": {},
   "outputs": [
    {
     "name": "stdout",
     "output_type": "stream",
     "text": [
      "132\n"
     ]
    }
   ],
   "source": [
    "print(3 * (42 + 2))"
   ]
  },
  {
   "cell_type": "code",
   "execution_count": 12,
   "id": "0af12a09-49cc-4aff-a8ee-8aaa9ecc0f0c",
   "metadata": {},
   "outputs": [
    {
     "name": "stdout",
     "output_type": "stream",
     "text": [
      "(44, 44, 44)\n"
     ]
    }
   ],
   "source": [
    "print(3 * (42 + 2,))"
   ]
  },
  {
   "cell_type": "code",
   "execution_count": 14,
   "id": "a10d7625-2a35-4268-aca4-eaf3c68f963b",
   "metadata": {},
   "outputs": [
    {
     "name": "stdout",
     "output_type": "stream",
     "text": [
      "(['xyz'], 23, -102.3)\n",
      "3\n"
     ]
    }
   ],
   "source": [
    "t = (['xyz'], 23, -102.3)\n",
    "print(str(t))\n",
    "print(len(t))"
   ]
  },
  {
   "cell_type": "code",
   "execution_count": 15,
   "id": "08f7d451-3ffd-4b00-b616-5741b9e7711a",
   "metadata": {},
   "outputs": [
    {
     "name": "stdout",
     "output_type": "stream",
     "text": [
      "[['xyz'], 23, -102.3]\n"
     ]
    }
   ],
   "source": [
    "print(list(t))"
   ]
  },
  {
   "cell_type": "code",
   "execution_count": 17,
   "id": "58ccebcb-96a1-41ac-8e7d-76f7955f34aa",
   "metadata": {},
   "outputs": [
    {
     "name": "stdout",
     "output_type": "stream",
     "text": [
      "a\n",
      "b\n",
      "c\n"
     ]
    }
   ],
   "source": [
    "v = ('a', 'b', 'c')\n",
    "(x, y, z) = v\n",
    "print(x)\n",
    "print(y)\n",
    "print(z)"
   ]
  },
  {
   "cell_type": "code",
   "execution_count": 18,
   "id": "8b8cabf6-a585-487e-9bdb-25407bd9ef05",
   "metadata": {},
   "outputs": [
    {
     "name": "stdout",
     "output_type": "stream",
     "text": [
      "('W', 'e', 'l', 'c', 'o', 'm', 'e')\n"
     ]
    }
   ],
   "source": [
    "print(tuple(\"Welcome\"))"
   ]
  },
  {
   "cell_type": "code",
   "execution_count": 19,
   "id": "38a42127-46df-4fe3-928d-8c8fd4625d15",
   "metadata": {},
   "outputs": [
    {
     "name": "stdout",
     "output_type": "stream",
     "text": [
      "123\n"
     ]
    }
   ],
   "source": [
    "t = (123, 'abc', 4.56, ['inner1', 'inner2'], 7-9j)\n",
    "\n",
    "print(t[0])"
   ]
  },
  {
   "cell_type": "code",
   "execution_count": 20,
   "id": "f179ce12-7d20-4565-9831-724fa3630f88",
   "metadata": {},
   "outputs": [
    {
     "name": "stdout",
     "output_type": "stream",
     "text": [
      "['inner1', 'inner2']\n"
     ]
    }
   ],
   "source": [
    "print(t[3])"
   ]
  },
  {
   "cell_type": "code",
   "execution_count": 21,
   "id": "55aa5b84-9a55-49da-a1c6-0a45b054326a",
   "metadata": {},
   "outputs": [
    {
     "name": "stdout",
     "output_type": "stream",
     "text": [
      "(7-9j)\n"
     ]
    }
   ],
   "source": [
    "print(t[-1])"
   ]
  },
  {
   "cell_type": "code",
   "execution_count": 24,
   "id": "2b36df51-48ca-4deb-9324-2a09942e74fe",
   "metadata": {},
   "outputs": [
    {
     "name": "stdout",
     "output_type": "stream",
     "text": [
      "(123, 'abc', 4.56, ['inner1', 'inner2'], (7-9j))\n",
      "(123, 'abc', 4.56, ['inner1', 'inner2'], (7-9j), 123, 'abc', 4.56, ['inner1', 'inner2'], (7-9j))\n",
      "(123, 'abc', 4.56, ['inner1', 'inner2'], (7-9j), 123, 'abc', 4.56, ['inner1', 'inner2'], (7-9j), 123, 'abc', 4.56, ['inner1', 'inner2'], (7-9j))\n"
     ]
    }
   ],
   "source": [
    "t = (123, 'abc', 4.56, ['inner1', 'inner2'], 7-9j)\n",
    "print(t)\n",
    "print( t+t)\n",
    "print(t*3)"
   ]
  },
  {
   "cell_type": "code",
   "execution_count": 25,
   "id": "0e1c7b2c-6844-482f-b969-669dc93661c1",
   "metadata": {},
   "outputs": [],
   "source": [
    "t = t + (111, 222)"
   ]
  },
  {
   "cell_type": "code",
   "execution_count": 27,
   "id": "debae95a-697f-4e2e-b83e-f506391216ba",
   "metadata": {},
   "outputs": [
    {
     "name": "stdout",
     "output_type": "stream",
     "text": [
      "('hello', 'world', 'all')\n"
     ]
    }
   ],
   "source": [
    "var1 = \"hello\"\n",
    "var2 = \"world\"\n",
    "var3 = \"all\"\n",
    "\n",
    "t = var1, var2, var3\n",
    "print(t)"
   ]
  },
  {
   "cell_type": "code",
   "execution_count": 31,
   "id": "c51f5ab2-0900-400f-9b11-57bd885eddb7",
   "metadata": {},
   "outputs": [
    {
     "name": "stdout",
     "output_type": "stream",
     "text": [
      "['Pyspark', 'python', 'java', 'golang', 'scala', 'javascript']\n",
      "java\n",
      "['java', 'golang', 'scala', 'javascript']\n",
      "['python', 'java']\n"
     ]
    }
   ],
   "source": [
    "list1 = [\"Pyspark\", \"python\", \"java\", \"golang\", \"scala\", \"javascript\"]\n",
    "\n",
    "print(list1)\n",
    "print(list1[2])\n",
    "print(list1[2:])\n",
    "print(list1[1:3])"
   ]
  },
  {
   "cell_type": "code",
   "execution_count": 32,
   "id": "0ed58ccc-8a41-41ca-a3f1-0c1e3b87994d",
   "metadata": {},
   "outputs": [
    {
     "name": "stdout",
     "output_type": "stream",
     "text": [
      "['Pyspark', 'python', 'java', 'golang', 'scala', 'javascript', 'ruby']\n"
     ]
    }
   ],
   "source": [
    "list1.append(\"ruby\")\n",
    "\n",
    "print(list1)"
   ]
  },
  {
   "cell_type": "code",
   "execution_count": 33,
   "id": "1de49e2e-3d0e-414d-975f-483db43a4bab",
   "metadata": {},
   "outputs": [],
   "source": [
    "del list1[3]\n",
    "    "
   ]
  },
  {
   "cell_type": "code",
   "execution_count": 34,
   "id": "d45360b9-79f1-4026-bf52-7142a3c8accd",
   "metadata": {},
   "outputs": [
    {
     "name": "stdout",
     "output_type": "stream",
     "text": [
      "['Pyspark', 'python', 'java', 'scala', 'javascript', 'ruby']\n"
     ]
    }
   ],
   "source": [
    "print(list1)"
   ]
  },
  {
   "cell_type": "code",
   "execution_count": 36,
   "id": "0d8cd23b-015c-43e7-af77-5dbe3d5f0cd1",
   "metadata": {},
   "outputs": [
    {
     "name": "stdout",
     "output_type": "stream",
     "text": [
      "['Pyspark', 'python', 'java', 'scala', 'javascript', 'ruby', 'golang', 'golang']\n"
     ]
    }
   ],
   "source": [
    "list1.append(\"golang\")\n",
    "\n",
    "print(list1)"
   ]
  },
  {
   "cell_type": "code",
   "execution_count": 37,
   "id": "18568447-f3f2-4456-b8d7-570fd10c6a67",
   "metadata": {},
   "outputs": [
    {
     "name": "stdout",
     "output_type": "stream",
     "text": [
      "1\n",
      "2\n"
     ]
    }
   ],
   "source": [
    "print(list1.count(\"python\"))\n",
    "print(list1.count(\"golang\"))\n"
   ]
  },
  {
   "cell_type": "code",
   "execution_count": 39,
   "id": "9aa5b1db-991a-4fbb-91c5-b378360fa495",
   "metadata": {},
   "outputs": [
    {
     "name": "stdout",
     "output_type": "stream",
     "text": [
      "3\n",
      "6\n"
     ]
    }
   ],
   "source": [
    "print(list1.index(\"scala\"))\n",
    "print(list1.index(\"golang\"))"
   ]
  },
  {
   "cell_type": "code",
   "execution_count": 42,
   "id": "4af6bece-95b7-4312-8baf-55ec0cb2a178",
   "metadata": {},
   "outputs": [
    {
     "name": "stdout",
     "output_type": "stream",
     "text": [
      "['Pyspark', 'Kotlin', 'Kotlin', 'Kotlin', 'python', 'java', 'scala', 'javascript', 'ruby', 'golang', 'golang']\n"
     ]
    }
   ],
   "source": [
    "list1.insert(1, \"Kotlin\")\n",
    "print(list1)"
   ]
  },
  {
   "cell_type": "code",
   "execution_count": 43,
   "id": "10a143ed-040b-4b19-a600-f869ec8b2b4d",
   "metadata": {},
   "outputs": [
    {
     "name": "stdout",
     "output_type": "stream",
     "text": [
      "['Pyspark', 'python', 'java', 'golang', 'scala']\n"
     ]
    }
   ],
   "source": [
    "list1 = [\"Pyspark\", \"python\", \"java\", \"golang\", \"scala\", \"javascript\"]\n",
    "\n",
    "list1.pop()\n",
    "\n",
    "print(list1)"
   ]
  },
  {
   "cell_type": "code",
   "execution_count": 44,
   "id": "7a5cbbbf-59e5-4d89-8ffd-44e77ebe206c",
   "metadata": {},
   "outputs": [
    {
     "name": "stdout",
     "output_type": "stream",
     "text": [
      "['Pyspark', 'java', 'golang', 'scala']\n"
     ]
    }
   ],
   "source": [
    "list1.pop(1)\n",
    "\n",
    "print(list1)"
   ]
  },
  {
   "cell_type": "code",
   "execution_count": 45,
   "id": "17897b36-c634-4973-a777-45d1f3f7f835",
   "metadata": {},
   "outputs": [
    {
     "name": "stdout",
     "output_type": "stream",
     "text": [
      "['Pyspark', 'java', 'scala']\n"
     ]
    }
   ],
   "source": [
    "list1.pop(2)\n",
    "\n",
    "print(list1)"
   ]
  },
  {
   "cell_type": "code",
   "execution_count": 47,
   "id": "1cfd0237-1d7d-4b5c-b0d8-b312ca7dd957",
   "metadata": {},
   "outputs": [
    {
     "name": "stdout",
     "output_type": "stream",
     "text": [
      "['Pyspark', 'python', 'golang', 'scala', 'javascript']\n"
     ]
    }
   ],
   "source": [
    "list1 = [\"Pyspark\", \"python\", \"java\", \"golang\", \"scala\", \"javascript\"]\n",
    "\n",
    "list1.remove(\"java\")\n",
    "\n",
    "print(list1)"
   ]
  },
  {
   "cell_type": "code",
   "execution_count": 48,
   "id": "c66cf1f6-3c31-493a-822b-03b3d0c247d4",
   "metadata": {},
   "outputs": [
    {
     "name": "stdout",
     "output_type": "stream",
     "text": [
      "['Pyspark', 'python', 'java', 'golang', 'scala', 'javascript', 'erlang', 'gentran']\n"
     ]
    }
   ],
   "source": [
    "list1 = [\"Pyspark\", \"python\", \"java\", \"golang\", \"scala\", \"javascript\"]\n",
    "\n",
    "list1 = list1 + [\"erlang\", \"gentran\"]\n",
    "\n",
    "print(list1)"
   ]
  },
  {
   "cell_type": "code",
   "execution_count": 49,
   "id": "771f1b57-a586-4d78-853f-f546018f8d41",
   "metadata": {},
   "outputs": [],
   "source": [
    "list1 = [\"Pyspark\", \"python\", \"java\", \"golang\", \"scala\", \"javascript\"]\n",
    "\n",
    "list1.extend([\"erlang\", \"gentran\"])\n"
   ]
  },
  {
   "cell_type": "code",
   "execution_count": 50,
   "id": "d1d46db0-9fce-4cbf-bce1-c0e0d36d084e",
   "metadata": {},
   "outputs": [
    {
     "name": "stdout",
     "output_type": "stream",
     "text": [
      "['Pyspark', 'python', 'java', 'golang', 'scala', 'javascript', 'erlang', 'gentran']\n"
     ]
    }
   ],
   "source": [
    "print(list1)"
   ]
  },
  {
   "cell_type": "code",
   "execution_count": 51,
   "id": "6e84ce04-9400-4300-a27c-2cf4aba578e9",
   "metadata": {},
   "outputs": [
    {
     "name": "stdout",
     "output_type": "stream",
     "text": [
      "(1.4142135623730951+0j)\n"
     ]
    }
   ],
   "source": [
    "import cmath\n",
    "\n",
    "print(cmath.sqrt(2))"
   ]
  },
  {
   "cell_type": "code",
   "execution_count": 52,
   "id": "0386a3c3-04a4-414b-ad3c-704114791a88",
   "metadata": {},
   "outputs": [
    {
     "name": "stdout",
     "output_type": "stream",
     "text": [
      "3.0\n"
     ]
    }
   ],
   "source": [
    "from math import sqrt\n",
    "\n",
    "print(sqrt(9))"
   ]
  },
  {
   "cell_type": "code",
   "execution_count": 53,
   "id": "63806e85-cd5a-467f-9a9f-974741c67e5a",
   "metadata": {},
   "outputs": [
    {
     "data": {
      "text/plain": [
       "2.0"
      ]
     },
     "execution_count": 53,
     "metadata": {},
     "output_type": "execute_result"
    }
   ],
   "source": [
    "import math as foobar\n",
    "foobar.sqrt(4)"
   ]
  },
  {
   "cell_type": "code",
   "execution_count": 54,
   "id": "517f956e-b828-425e-b1fe-2d6fa2e13986",
   "metadata": {},
   "outputs": [
    {
     "data": {
      "text/plain": [
       "2.0"
      ]
     },
     "execution_count": 54,
     "metadata": {},
     "output_type": "execute_result"
    }
   ],
   "source": [
    "from math import sqrt as foobar\n",
    "\n",
    "foobar(4)"
   ]
  },
  {
   "cell_type": "code",
   "execution_count": 55,
   "id": "2be6c886-29f1-40bc-8c5a-9cac86b4ad69",
   "metadata": {},
   "outputs": [
    {
     "name": "stdout",
     "output_type": "stream",
     "text": [
      "C:\\Users\\dr_vi\\CLASSROOM\\python-dec2023\n"
     ]
    }
   ],
   "source": [
    "import os \n",
    "\n",
    "print(os.path.abspath('.'))"
   ]
  },
  {
   "cell_type": "code",
   "execution_count": 56,
   "id": "4a5ce383-37b1-4ae7-b897-bd7a2a2955b3",
   "metadata": {},
   "outputs": [
    {
     "ename": "IndexError",
     "evalue": "list index out of range",
     "output_type": "error",
     "traceback": [
      "\u001b[1;31m---------------------------------------------------------------------------\u001b[0m",
      "\u001b[1;31mIndexError\u001b[0m                                Traceback (most recent call last)",
      "Input \u001b[1;32mIn [56]\u001b[0m, in \u001b[0;36m<cell line: 2>\u001b[1;34m()\u001b[0m\n\u001b[0;32m      1\u001b[0m alist \u001b[38;5;241m=\u001b[39m []\n\u001b[1;32m----> 2\u001b[0m \u001b[38;5;28mprint\u001b[39m(\u001b[43malist\u001b[49m\u001b[43m[\u001b[49m\u001b[38;5;241;43m4\u001b[39;49m\u001b[43m]\u001b[49m)\n",
      "\u001b[1;31mIndexError\u001b[0m: list index out of range"
     ]
    }
   ],
   "source": [
    "alist = []\n",
    "print(alist[4])"
   ]
  },
  {
   "cell_type": "code",
   "execution_count": 57,
   "id": "9ec63716-dee5-4b35-933f-6a7c9a0ea572",
   "metadata": {},
   "outputs": [
    {
     "ename": "ZeroDivisionError",
     "evalue": "division by zero",
     "output_type": "error",
     "traceback": [
      "\u001b[1;31m---------------------------------------------------------------------------\u001b[0m",
      "\u001b[1;31mZeroDivisionError\u001b[0m                         Traceback (most recent call last)",
      "Input \u001b[1;32mIn [57]\u001b[0m, in \u001b[0;36m<cell line: 1>\u001b[1;34m()\u001b[0m\n\u001b[1;32m----> 1\u001b[0m \u001b[38;5;28mprint\u001b[39m(\u001b[38;5;241;43m100\u001b[39;49m\u001b[38;5;241;43m/\u001b[39;49m\u001b[38;5;241;43m0\u001b[39;49m)\n",
      "\u001b[1;31mZeroDivisionError\u001b[0m: division by zero"
     ]
    }
   ],
   "source": [
    "print(100/0)"
   ]
  },
  {
   "cell_type": "code",
   "execution_count": 66,
   "id": "968f2a4e-e74f-4390-bdaa-d752b5a6c553",
   "metadata": {},
   "outputs": [
    {
     "name": "stdin",
     "output_type": "stream",
     "text": [
      "value1 100\n",
      "value2 0\n"
     ]
    },
    {
     "name": "stdout",
     "output_type": "stream",
     "text": [
      "block is going to start\n",
      "Enter two non zero values\n",
      "block ended\n",
      "0\n"
     ]
    }
   ],
   "source": [
    "number1 = input(\"value1\")\n",
    "number2 = input(\"value2\")\n",
    "result = 0\n",
    "print(\"block is going to start\")\n",
    "\n",
    "try :\n",
    "    result = float(number1) / float(number2)\n",
    "except ValueError :\n",
    "    print(\"Enter correct values\")\n",
    "except ZeroDivisionError :\n",
    "    print(\"Enter two non zero values\")\n",
    "\n",
    "print(\"block ended\")\n",
    "print(result)"
   ]
  },
  {
   "cell_type": "code",
   "execution_count": 68,
   "id": "ffd084e7-c2e2-4e47-af3c-32c1bde5ab97",
   "metadata": {},
   "outputs": [
    {
     "name": "stdin",
     "output_type": "stream",
     "text": [
      "value1 100\n",
      "value2 0\n"
     ]
    },
    {
     "name": "stdout",
     "output_type": "stream",
     "text": [
      "block is going to start\n",
      "Enter two non zero values\n",
      "block ended\n",
      "0\n"
     ]
    }
   ],
   "source": [
    "number1 = input(\"value1\")\n",
    "number2 = input(\"value2\")\n",
    "result = 0\n",
    "print(\"block is going to start\")\n",
    "\n",
    "try :\n",
    "    result = float(number1) / float(number2)\n",
    "except ValueError :\n",
    "    print(\"Enter correct values\")\n",
    "except ZeroDivisionError :\n",
    "    print(\"Enter two non zero values\")\n",
    "else :\n",
    "    print(\"else clause executed\")\n",
    "\n",
    "print(\"block ended\")\n",
    "print(result)"
   ]
  },
  {
   "cell_type": "code",
   "execution_count": 69,
   "id": "c34767a1-de64-4527-a3b7-d4fdf92ffa4b",
   "metadata": {},
   "outputs": [
    {
     "name": "stdin",
     "output_type": "stream",
     "text": [
      "value1 100\n",
      "value2 0\n"
     ]
    },
    {
     "name": "stdout",
     "output_type": "stream",
     "text": [
      "block is going to start\n",
      "typerror or divide by zero error occured\n",
      "block ended\n",
      "0\n"
     ]
    }
   ],
   "source": [
    "number1 = input(\"value1\")\n",
    "number2 = input(\"value2\")\n",
    "result = 0\n",
    "print(\"block is going to start\")\n",
    "\n",
    "try :\n",
    "    result = float(number1) / float(number2)\n",
    "except (TypeError, ZeroDivisionError) :\n",
    "    print(\"typerror or divide by zero error occured\")\n",
    "\n",
    "print(\"block ended\")\n",
    "print(result)"
   ]
  },
  {
   "cell_type": "code",
   "execution_count": 70,
   "id": "d4791f9e-b215-49f8-9efb-74c025cbb15d",
   "metadata": {},
   "outputs": [
    {
     "name": "stdin",
     "output_type": "stream",
     "text": [
      "value1 100\n",
      "value2 0\n"
     ]
    },
    {
     "name": "stdout",
     "output_type": "stream",
     "text": [
      "block is going to start\n",
      "Enter two non zero values\n",
      "float division by zero\n",
      "block ended\n",
      "0\n"
     ]
    }
   ],
   "source": [
    "number1 = input(\"value1\")\n",
    "number2 = input(\"value2\")\n",
    "result = 0\n",
    "print(\"block is going to start\")\n",
    "\n",
    "try :\n",
    "    result = float(number1) / float(number2)\n",
    "except ValueError as e :\n",
    "    print(\"Enter correct values\")\n",
    "    print(e)\n",
    "except ZeroDivisionError as e :\n",
    "    print(\"Enter two non zero values\")\n",
    "    print(e)\n",
    "else :\n",
    "    print(\"else clause executed\")\n",
    "\n",
    "print(\"block ended\")\n",
    "print(result)"
   ]
  },
  {
   "cell_type": "code",
   "execution_count": 73,
   "id": "e13f2b97-66a6-4355-8a86-003bdc1062fa",
   "metadata": {},
   "outputs": [
    {
     "name": "stdin",
     "output_type": "stream",
     "text": [
      "number1 lfklfkldfk\n"
     ]
    },
    {
     "ename": "ValueError",
     "evalue": "invalid literal for int() with base 10: 'lfklfkldfk'",
     "output_type": "error",
     "traceback": [
      "\u001b[1;31m---------------------------------------------------------------------------\u001b[0m",
      "\u001b[1;31mValueError\u001b[0m                                Traceback (most recent call last)",
      "Input \u001b[1;32mIn [73]\u001b[0m, in \u001b[0;36m<cell line: 6>\u001b[1;34m()\u001b[0m\n\u001b[0;32m      2\u001b[0m    x_input \u001b[38;5;241m=\u001b[39m \u001b[38;5;28minput\u001b[39m(\u001b[38;5;124m\"\u001b[39m\u001b[38;5;124mnumber1\u001b[39m\u001b[38;5;124m\"\u001b[39m)\n\u001b[0;32m      3\u001b[0m    x \u001b[38;5;241m=\u001b[39m \u001b[38;5;28mint\u001b[39m(x_input)\n\u001b[1;32m----> 6\u001b[0m \u001b[43mfunction1\u001b[49m\u001b[43m(\u001b[49m\u001b[43m)\u001b[49m\n",
      "Input \u001b[1;32mIn [73]\u001b[0m, in \u001b[0;36mfunction1\u001b[1;34m()\u001b[0m\n\u001b[0;32m      1\u001b[0m \u001b[38;5;28;01mdef\u001b[39;00m \u001b[38;5;21mfunction1\u001b[39m() :\n\u001b[0;32m      2\u001b[0m    x_input \u001b[38;5;241m=\u001b[39m \u001b[38;5;28minput\u001b[39m(\u001b[38;5;124m\"\u001b[39m\u001b[38;5;124mnumber1\u001b[39m\u001b[38;5;124m\"\u001b[39m)\n\u001b[1;32m----> 3\u001b[0m    x \u001b[38;5;241m=\u001b[39m \u001b[38;5;28;43mint\u001b[39;49m\u001b[43m(\u001b[49m\u001b[43mx_input\u001b[49m\u001b[43m)\u001b[49m\n",
      "\u001b[1;31mValueError\u001b[0m: invalid literal for int() with base 10: 'lfklfkldfk'"
     ]
    }
   ],
   "source": [
    " def function1() :\n",
    "    x_input = input(\"number1\")\n",
    "    x = int(x_input)\n",
    "    \n",
    "    \n",
    "function1()\n",
    "    "
   ]
  },
  {
   "cell_type": "code",
   "execution_count": 75,
   "id": "20c61c5c-5fd5-4935-9457-1048a3636414",
   "metadata": {},
   "outputs": [
    {
     "name": "stdin",
     "output_type": "stream",
     "text": [
      "number1 jfkjfk\n"
     ]
    },
    {
     "name": "stdout",
     "output_type": "stream",
     "text": [
      "invalid literal for int() with base 10: 'jfkjfk'\n",
      "catch done\n"
     ]
    }
   ],
   "source": [
    " def function1() :\n",
    "    x_input = input(\"number1\")\n",
    "    x = int(x_input)\n",
    "    \n",
    "try :\n",
    "    function1()\n",
    "except ValueError as e :\n",
    "    print(e)\n",
    "    print(\"catch done\")"
   ]
  },
  {
   "cell_type": "code",
   "execution_count": 80,
   "id": "3f3dd29a-a9f7-40f6-b6af-5c5198eff325",
   "metadata": {},
   "outputs": [
    {
     "name": "stdin",
     "output_type": "stream",
     "text": [
      "number1 oidodiodi\n"
     ]
    },
    {
     "name": "stdout",
     "output_type": "stream",
     "text": [
      "invalid literal for int() with base 10: 'oidodiodi'\n",
      "catch done\n"
     ]
    },
    {
     "ename": "ValueError",
     "evalue": "invalid literal for int() with base 10: 'oidodiodi'",
     "output_type": "error",
     "traceback": [
      "\u001b[1;31m---------------------------------------------------------------------------\u001b[0m",
      "\u001b[1;31mValueError\u001b[0m                                Traceback (most recent call last)",
      "Input \u001b[1;32mIn [80]\u001b[0m, in \u001b[0;36m<cell line: 13>\u001b[1;34m()\u001b[0m\n\u001b[0;32m      7\u001b[0m        \u001b[38;5;28mprint\u001b[39m(\u001b[38;5;124m\"\u001b[39m\u001b[38;5;124mcatch done\u001b[39m\u001b[38;5;124m\"\u001b[39m)\n\u001b[0;32m      8\u001b[0m        \u001b[38;5;28;01mraise\u001b[39;00m\n\u001b[1;32m---> 13\u001b[0m \u001b[43mfunction1\u001b[49m\u001b[43m(\u001b[49m\u001b[43m)\u001b[49m\n",
      "Input \u001b[1;32mIn [80]\u001b[0m, in \u001b[0;36mfunction1\u001b[1;34m()\u001b[0m\n\u001b[0;32m      2\u001b[0m \u001b[38;5;28;01mtry\u001b[39;00m :\n\u001b[0;32m      3\u001b[0m     x_input \u001b[38;5;241m=\u001b[39m \u001b[38;5;28minput\u001b[39m(\u001b[38;5;124m\"\u001b[39m\u001b[38;5;124mnumber1\u001b[39m\u001b[38;5;124m\"\u001b[39m)\n\u001b[1;32m----> 4\u001b[0m     x \u001b[38;5;241m=\u001b[39m \u001b[38;5;28;43mint\u001b[39;49m\u001b[43m(\u001b[49m\u001b[43mx_input\u001b[49m\u001b[43m)\u001b[49m\n\u001b[0;32m      5\u001b[0m \u001b[38;5;28;01mexcept\u001b[39;00m \u001b[38;5;167;01mValueError\u001b[39;00m \u001b[38;5;28;01mas\u001b[39;00m e :\n\u001b[0;32m      6\u001b[0m     \u001b[38;5;28mprint\u001b[39m(e)\n",
      "\u001b[1;31mValueError\u001b[0m: invalid literal for int() with base 10: 'oidodiodi'"
     ]
    }
   ],
   "source": [
    " def function1() :\n",
    "    try :\n",
    "        x_input = input(\"number1\")\n",
    "        x = int(x_input)\n",
    "    except ValueError as e :\n",
    "        print(e)\n",
    "        print(\"catch done\")\n",
    "        raise\n",
    "    \n",
    "    \n",
    "    \n",
    "\n",
    "function1()\n"
   ]
  },
  {
   "cell_type": "code",
   "execution_count": 81,
   "id": "44a1ca41-4099-4c3f-85d2-e11d4c55a0c6",
   "metadata": {},
   "outputs": [],
   "source": [
    "class MyException(Exception) :\n",
    "    pass\n",
    "\n"
   ]
  },
  {
   "cell_type": "code",
   "execution_count": 82,
   "id": "8a5d533e-ad5a-48c1-9a0e-f12f3021681a",
   "metadata": {},
   "outputs": [
    {
     "ename": "MyException",
     "evalue": "Custom Exception",
     "output_type": "error",
     "traceback": [
      "\u001b[1;31m---------------------------------------------------------------------------\u001b[0m",
      "\u001b[1;31mMyException\u001b[0m                               Traceback (most recent call last)",
      "Input \u001b[1;32mIn [82]\u001b[0m, in \u001b[0;36m<cell line: 1>\u001b[1;34m()\u001b[0m\n\u001b[1;32m----> 1\u001b[0m \u001b[38;5;28;01mraise\u001b[39;00m MyException(\u001b[38;5;124m\"\u001b[39m\u001b[38;5;124mCustom Exception\u001b[39m\u001b[38;5;124m\"\u001b[39m)\n",
      "\u001b[1;31mMyException\u001b[0m: Custom Exception"
     ]
    }
   ],
   "source": [
    "raise MyException(\"Custom Exception\")"
   ]
  },
  {
   "cell_type": "code",
   "execution_count": 84,
   "id": "474706ed-c34e-44bd-8265-19b15b41da5d",
   "metadata": {},
   "outputs": [
    {
     "name": "stdin",
     "output_type": "stream",
     "text": [
      "value1 100\n",
      "value2 0\n"
     ]
    },
    {
     "name": "stdout",
     "output_type": "stream",
     "text": [
      "block is going to start\n",
      "Enter two non zero values\n",
      "finally clause executed\n",
      "block ended\n",
      "0\n"
     ]
    }
   ],
   "source": [
    "number1 = input(\"value1\")\n",
    "number2 = input(\"value2\")\n",
    "result = 0\n",
    "print(\"block is going to start\")\n",
    "\n",
    "try :\n",
    "    result = float(number1) / float(number2)\n",
    "except ValueError :\n",
    "    print(\"Enter correct values\")\n",
    "except ZeroDivisionError :\n",
    "    print(\"Enter two non zero values\")\n",
    "finally :\n",
    "    print(\"finally clause executed\")\n",
    "\n",
    "print(\"block ended\")\n",
    "print(result)"
   ]
  },
  {
   "cell_type": "code",
   "execution_count": null,
   "id": "d1a5927d-6d2f-4df6-a4ba-1c87c70a22a9",
   "metadata": {},
   "outputs": [],
   "source": []
  }
 ],
 "metadata": {
  "kernelspec": {
   "display_name": "Python 3 (ipykernel)",
   "language": "python",
   "name": "python3"
  },
  "language_info": {
   "codemirror_mode": {
    "name": "ipython",
    "version": 3
   },
   "file_extension": ".py",
   "mimetype": "text/x-python",
   "name": "python",
   "nbconvert_exporter": "python",
   "pygments_lexer": "ipython3",
   "version": "3.9.12"
  }
 },
 "nbformat": 4,
 "nbformat_minor": 5
}
